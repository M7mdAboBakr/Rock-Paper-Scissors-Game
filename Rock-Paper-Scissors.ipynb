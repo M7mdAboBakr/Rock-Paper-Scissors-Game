{
 "cells": [
  {
   "cell_type": "code",
   "execution_count": 1,
   "id": "aa698721",
   "metadata": {},
   "outputs": [],
   "source": [
    "def rock_paper_scissors():\n",
    "    \n",
    "    \"\"\"\n",
    "    the function is a (rock paper scissors) game , the one reaches 5 first, wins \n",
    "    \n",
    "    \n",
    "    \"\"\"\n",
    "    import random\n",
    "    user_counter = 0\n",
    "    computer_counter = 0\n",
    "    # the one reaches 5 first, wins\n",
    "    valid = [\"rock\",\"paper\",\"scissors\"] # computer chooses among them\n",
    "    \n",
    "    while True:\n",
    "        try:\n",
    "            user_choice = input(\"choose (rock , paper , scissors) : \")\n",
    "            \n",
    "            if user_choice.lower() == \"stop\": # to stop the program\n",
    "                break\n",
    "                \n",
    "            if user_choice.lower() not in valid: # if not valid choice \n",
    "                raise ValueError\n",
    "            \n",
    "            computer_choice = random.choice(valid)\n",
    "\n",
    "            if user_choice.lower() == computer_choice: # draw condition\n",
    "                print(f\"computer choice = {computer_choice}\")\n",
    "                print(\"DRAW \\n\")\n",
    "                print(f\"computer score = {computer_counter}\")\n",
    "                print(f\"user score = {user_counter}\")\n",
    "\n",
    "            elif( user_choice.lower() == \"rock\" and computer_choice == \"scissors\") or (user_choice.lower() == \"paper\" and computer_choice == \"rock\") or (user_choice.lower() == \"scissors\" and computer_choice == \"paper\"): # win condition\n",
    "                print(f\"computer choice = {computer_choice}\")\n",
    "                print(\"user wins ! \\n\")\n",
    "                user_counter += 1\n",
    "                if user_counter == 5: # break if i won\n",
    "                    break\n",
    "                print(f\"computer score = {computer_counter}\")\n",
    "                print(f\"user score = {user_counter} \\n\")\n",
    "\n",
    "            else: # lose condition\n",
    "                print(f\"computer choice = {computer_choice}\")\n",
    "                print(\"computer wins ! \\n\")\n",
    "                computer_counter += 1\n",
    "                if computer_counter == 5: # break if computer won\n",
    "                    break\n",
    "                print(f\"computer score = {computer_counter}\")\n",
    "                print(f\"user score = {user_counter} \\n\")\n",
    "                \n",
    "        except ValueError:\n",
    "            print(\"please enter valid choice ! \\n\")\n",
    "            \n",
    "    # final result : \n",
    "    \n",
    "    print(f\"computer score = {computer_counter}\")\n",
    "    print(f\"user score = {user_counter} \\n\")\n",
    "    \n",
    "    if user_counter > computer_counter:\n",
    "        print(\"final result : USER WINS !\")\n",
    "        \n",
    "    elif user_counter == computer_counter:\n",
    "        print(\"final result : DRAW !\")\n",
    "        \n",
    "    else:\n",
    "        print(\"final result : COMPUTER WINS !!\")"
   ]
  },
  {
   "cell_type": "code",
   "execution_count": 3,
   "id": "fd29b78f",
   "metadata": {},
   "outputs": [],
   "source": [
    "rock_paper_scissors()"
   ]
  }
 ],
 "metadata": {
  "kernelspec": {
   "display_name": "Python 3 (ipykernel)",
   "language": "python",
   "name": "python3"
  },
  "language_info": {
   "codemirror_mode": {
    "name": "ipython",
    "version": 3
   },
   "file_extension": ".py",
   "mimetype": "text/x-python",
   "name": "python",
   "nbconvert_exporter": "python",
   "pygments_lexer": "ipython3",
   "version": "3.12.0"
  }
 },
 "nbformat": 4,
 "nbformat_minor": 5
}
